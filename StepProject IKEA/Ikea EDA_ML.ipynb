{
 "cells": [
  {
   "cell_type": "code",
   "execution_count": 1,
   "metadata": {},
   "outputs": [],
   "source": [
    "import pandas as pd\n",
    "import numpy as np\n",
    "import seaborn as sns\n",
    "%matplotlib inline\n",
    "from scipy import stats\n",
    "from matplotlib import pyplot as plt\n",
    "import sklearn as sk\n",
    "from sklearn.compose import ColumnTransformer\n",
    "from sklearn.pipeline import Pipeline\n",
    "from sklearn.impute import SimpleImputer\n",
    "from sklearn.preprocessing import StandardScaler\n",
    "from sklearn.preprocessing import OneHotEncoder\n",
    "from sklearn.neighbors import KNeighborsRegressor \n",
    "from sklearn.tree import DecisionTreeRegressor\n",
    "from sklearn.ensemble import RandomForestRegressor\n",
    "from sklearn.ensemble import GradientBoostingRegressor"
   ]
  },
  {
   "cell_type": "code",
   "execution_count": 37,
   "metadata": {},
   "outputs": [],
   "source": [
    "import requests\n",
    "import warnings\n",
    "warnings.filterwarnings(\"ignore\")\n",
    "warnings.filterwarnings(\"ignore\", category=FutureWarning, module=\"sklearn\")"
   ]
  },
  {
   "cell_type": "code",
   "execution_count": 38,
   "metadata": {},
   "outputs": [],
   "source": [
    "URL = 'https://raw.githubusercontent.com/rfordatascience/tidytuesday/master/data/2020/2020-11-03/ikea.csv'\n",
    "\n",
    "req = requests.get(URL)"
   ]
  },
  {
   "cell_type": "code",
   "execution_count": 39,
   "metadata": {},
   "outputs": [
    {
     "data": {
      "text/plain": [
       "{'Connection': 'keep-alive', 'Content-Length': '154500', 'Cache-Control': 'max-age=300', 'Content-Security-Policy': \"default-src 'none'; style-src 'unsafe-inline'; sandbox\", 'Content-Type': 'text/plain; charset=utf-8', 'ETag': 'W/\"d901e6fe53bcc43168991cd6d6156d10a1dc274f9088d941dfbe6520d54137fc\"', 'Strict-Transport-Security': 'max-age=31536000', 'X-Content-Type-Options': 'nosniff', 'X-Frame-Options': 'deny', 'X-XSS-Protection': '1; mode=block', 'X-GitHub-Request-Id': '57A0:421B:E92970:F2986A:64D4AF6A', 'Content-Encoding': 'gzip', 'Accept-Ranges': 'bytes', 'Date': 'Thu, 10 Aug 2023 09:35:39 GMT', 'Via': '1.1 varnish', 'X-Served-By': 'cache-vie6322-VIE', 'X-Cache': 'MISS', 'X-Cache-Hits': '0', 'X-Timer': 'S1691660139.223803,VS0,VE232', 'Vary': 'Authorization,Accept-Encoding,Origin', 'Access-Control-Allow-Origin': '*', 'Cross-Origin-Resource-Policy': 'cross-origin', 'X-Fastly-Request-ID': 'baca59994fcae48d6695115e79400669c8f10871', 'Expires': 'Thu, 10 Aug 2023 09:40:39 GMT', 'Source-Age': '0'}"
      ]
     },
     "execution_count": 39,
     "metadata": {},
     "output_type": "execute_result"
    }
   ],
   "source": [
    "req.headers"
   ]
  },
  {
   "cell_type": "code",
   "execution_count": 40,
   "metadata": {},
   "outputs": [],
   "source": [
    "match req.status_code:\n",
    "    case 200: \n",
    "        df = pd.read_csv(URL)\n",
    "    case 404: \n",
    "        raise 'Problem with connection'\n",
    "    case _ :\n",
    "        raise f'Something wrong {req.status_code}'"
   ]
  },
  {
   "cell_type": "markdown",
   "metadata": {},
   "source": [
    "**EDA**"
   ]
  },
  {
   "cell_type": "code",
   "execution_count": null,
   "metadata": {},
   "outputs": [],
   "source": [
    "df.head()"
   ]
  },
  {
   "cell_type": "code",
   "execution_count": null,
   "metadata": {},
   "outputs": [],
   "source": [
    "df.tail()"
   ]
  },
  {
   "cell_type": "code",
   "execution_count": null,
   "metadata": {},
   "outputs": [],
   "source": [
    "df.columns"
   ]
  },
  {
   "cell_type": "code",
   "execution_count": null,
   "metadata": {},
   "outputs": [],
   "source": [
    "#Size of dataset\n",
    "df.shape"
   ]
  },
  {
   "cell_type": "code",
   "execution_count": null,
   "metadata": {},
   "outputs": [],
   "source": [
    "df.dtypes"
   ]
  },
  {
   "cell_type": "code",
   "execution_count": null,
   "metadata": {},
   "outputs": [],
   "source": [
    "#count how many times each data type is present in the dataset\n",
    "pd.value_counts(df.dtypes)"
   ]
  },
  {
   "cell_type": "code",
   "execution_count": null,
   "metadata": {},
   "outputs": [],
   "source": [
    "df.describe()"
   ]
  },
  {
   "cell_type": "code",
   "execution_count": null,
   "metadata": {},
   "outputs": [],
   "source": [
    "df.info()"
   ]
  },
  {
   "cell_type": "code",
   "execution_count": null,
   "metadata": {},
   "outputs": [],
   "source": [
    "df.isnull().sum()"
   ]
  },
  {
   "cell_type": "markdown",
   "metadata": {},
   "source": [
    "We have 3 features with NULL values: **depth**, **height**, **width** . When we do the ML, we will need to fill them in."
   ]
  },
  {
   "cell_type": "code",
   "execution_count": null,
   "metadata": {},
   "outputs": [],
   "source": [
    "df['category'].unique()"
   ]
  },
  {
   "cell_type": "code",
   "execution_count": null,
   "metadata": {},
   "outputs": [],
   "source": [
    "df['category'].value_counts()"
   ]
  },
  {
   "cell_type": "code",
   "execution_count": null,
   "metadata": {},
   "outputs": [],
   "source": [
    "df.head()"
   ]
  },
  {
   "cell_type": "code",
   "execution_count": null,
   "metadata": {},
   "outputs": [],
   "source": [
    "df['sellable_online'].value_counts()"
   ]
  },
  {
   "cell_type": "code",
   "execution_count": null,
   "metadata": {},
   "outputs": [],
   "source": [
    "df['category'].value_counts(normalize= True)"
   ]
  },
  {
   "cell_type": "code",
   "execution_count": 76,
   "metadata": {},
   "outputs": [],
   "source": [
    "# Create copy of df, for delete null \n",
    "df1 = df.copy()\n",
    "\n",
    "df1.dropna(inplace= True)"
   ]
  },
  {
   "cell_type": "code",
   "execution_count": null,
   "metadata": {},
   "outputs": [],
   "source": [
    "df1.head()"
   ]
  },
  {
   "cell_type": "markdown",
   "metadata": {},
   "source": [
    "We can see to extra columns: **item_id**, **link**. We will remove them, as they are not important in the analysis."
   ]
  },
  {
   "cell_type": "code",
   "execution_count": null,
   "metadata": {},
   "outputs": [],
   "source": [
    "df1 = df1.drop(['item_id', 'link'], axis= 1)\n",
    "df1.columns"
   ]
  },
  {
   "cell_type": "code",
   "execution_count": null,
   "metadata": {},
   "outputs": [],
   "source": [
    "df1.head()"
   ]
  },
  {
   "cell_type": "code",
   "execution_count": null,
   "metadata": {},
   "outputs": [],
   "source": [
    "df1.shape"
   ]
  },
  {
   "cell_type": "code",
   "execution_count": null,
   "metadata": {},
   "outputs": [],
   "source": [
    "plt.hist(df1['category'],bins = 27, color = 'red')\n",
    "\n",
    "plt.title('Розподіл для category')\n",
    "plt.xlabel('category')\n",
    "plt.ylabel('Частота')\n",
    "plt.show()"
   ]
  },
  {
   "cell_type": "code",
   "execution_count": null,
   "metadata": {},
   "outputs": [],
   "source": [
    "df1['category'].unique()"
   ]
  },
  {
   "cell_type": "code",
   "execution_count": 83,
   "metadata": {},
   "outputs": [
    {
     "data": {
      "text/plain": [
       "17"
      ]
     },
     "execution_count": 83,
     "metadata": {},
     "output_type": "execute_result"
    }
   ],
   "source": [
    "df1['category'].nunique()"
   ]
  },
  {
   "cell_type": "code",
   "execution_count": null,
   "metadata": {},
   "outputs": [],
   "source": [
    "df1.sort_values('price', ascending= False)"
   ]
  },
  {
   "cell_type": "code",
   "execution_count": null,
   "metadata": {},
   "outputs": [],
   "source": [
    "df1.sort_values(['price', 'category'], ascending= [False,True])"
   ]
  },
  {
   "cell_type": "code",
   "execution_count": null,
   "metadata": {},
   "outputs": [],
   "source": [
    "df1.duplicated().sum()"
   ]
  },
  {
   "cell_type": "code",
   "execution_count": null,
   "metadata": {},
   "outputs": [],
   "source": [
    "df1.groupby('category')['price'].mean()"
   ]
  },
  {
   "cell_type": "code",
   "execution_count": null,
   "metadata": {},
   "outputs": [],
   "source": [
    "df1.groupby('price')['old_price'].count()"
   ]
  },
  {
   "cell_type": "code",
   "execution_count": null,
   "metadata": {},
   "outputs": [],
   "source": [
    "df1.groupby('old_price')['category'].count()"
   ]
  },
  {
   "cell_type": "code",
   "execution_count": null,
   "metadata": {},
   "outputs": [],
   "source": [
    "df1.loc[0:10,['category','designer']]"
   ]
  },
  {
   "cell_type": "code",
   "execution_count": null,
   "metadata": {},
   "outputs": [],
   "source": [
    "df1.iloc[0:10,1:3]"
   ]
  },
  {
   "cell_type": "code",
   "execution_count": null,
   "metadata": {},
   "outputs": [],
   "source": [
    "df1.head()"
   ]
  },
  {
   "cell_type": "code",
   "execution_count": null,
   "metadata": {},
   "outputs": [],
   "source": [
    "sns.barplot(data=df1, x=\"price\", y=\"category\", palette= 'magma')\n",
    "plt.grid()\n",
    "plt.xlabel('price')\n",
    "plt.ylabel('category')\n",
    "plt.title('category by price')\n",
    "plt.show();"
   ]
  },
  {
   "cell_type": "code",
   "execution_count": null,
   "metadata": {},
   "outputs": [],
   "source": [
    "sns.barplot(data=df1, x=\"depth\", y=\"category\", palette= 'magma')\n",
    "plt.grid()\n",
    "plt.xlabel('depth')\n",
    "plt.ylabel('category')\n",
    "plt.title('category by depth')\n",
    "plt.show();"
   ]
  },
  {
   "cell_type": "code",
   "execution_count": null,
   "metadata": {},
   "outputs": [],
   "source": [
    "plt.figure(figsize = (6,4)) \n",
    "\n",
    "sns.countplot(y= df1.category ,data = df); \n",
    "\n",
    "plt.xlabel('count') \n",
    "plt.ylabel('category') \n",
    "plt.title('Ikea') \n",
    "plt.show() "
   ]
  },
  {
   "cell_type": "code",
   "execution_count": null,
   "metadata": {},
   "outputs": [],
   "source": [
    "sns.heatmap(df1.corr(),annot= True, cmap='magma');"
   ]
  },
  {
   "cell_type": "code",
   "execution_count": null,
   "metadata": {},
   "outputs": [],
   "source": [
    "sns.heatmap(df[['price', 'depth', 'height', 'width']].corr(), xticklabels= df[['price', 'depth', 'height', 'width']].corr().columns,\n",
    "            yticklabels= df[['price', 'depth', 'height', 'width']].corr().columns, center= 0, annot= True);"
   ]
  },
  {
   "cell_type": "markdown",
   "metadata": {},
   "source": [
    "From the correlation graph, we can conclude that the **most correlated features** are *price* and *width*; *price* and *depth*"
   ]
  },
  {
   "cell_type": "code",
   "execution_count": null,
   "metadata": {},
   "outputs": [],
   "source": [
    "df1.head()"
   ]
  },
  {
   "cell_type": "code",
   "execution_count": null,
   "metadata": {},
   "outputs": [],
   "source": [
    "sns.scatterplot(x = 'price', y = 'width', data = df1);\n",
    "plt.grid(color = 'black', linewidth = 0.8)"
   ]
  },
  {
   "cell_type": "code",
   "execution_count": null,
   "metadata": {},
   "outputs": [],
   "source": [
    "sns.scatterplot(x = 'price', y = 'depth', data = df1);\n",
    "plt.grid(color = 'black', linewidth = 0.8)"
   ]
  },
  {
   "cell_type": "code",
   "execution_count": null,
   "metadata": {},
   "outputs": [],
   "source": [
    "plt.subplots(figsize = (8,6))\n",
    "sns.scatterplot(x = 'price', y = 'category', data = df1, hue = 'sellable_online');\n",
    "plt.grid()"
   ]
  },
  {
   "cell_type": "code",
   "execution_count": null,
   "metadata": {},
   "outputs": [],
   "source": [
    "sns.pairplot(df[['price', 'depth', 'height', 'width', 'other_colors', 'category']], hue = 'other_colors');"
   ]
  },
  {
   "cell_type": "code",
   "execution_count": 101,
   "metadata": {},
   "outputs": [],
   "source": [
    "df_X = df1[['height', 'width', 'depth', 'price']]"
   ]
  },
  {
   "cell_type": "code",
   "execution_count": null,
   "metadata": {},
   "outputs": [],
   "source": [
    "# Take SelectKbest to find more informative columns\n",
    "# chi2 - \n",
    "from sklearn.feature_selection import chi2, SelectKBest, mutual_info_classif, mutual_info_regression\n",
    "_, (ax1, ax2) = plt.subplots(2, 1, figsize=(10,8))\n",
    "\n",
    "w_df_X = df1[['height', 'width', 'depth', 'price']]\n",
    "w_df_y = df1['category']\n",
    "\n",
    "# descrete 'category'\n",
    "importance_0 = mutual_info_classif(w_df_X, w_df_y)\n",
    "feature_importances_0 = pd.Series(importance_0, w_df_X.columns)\n",
    "feature_importances_0.plot(kind='barh', color='red', ax = ax1)\n",
    "\n",
    "w_df_X_1 = df1[['height', 'width', 'depth']]\n",
    "w_df_y_1 = df1['price']\n",
    "\n",
    "# long 'price'\n",
    "importance_1 = mutual_info_regression(w_df_X_1, w_df_y_1)\n",
    "feature_importances_1 = pd.Series(importance_1, w_df_X_1.columns)\n",
    "feature_importances_1.plot(kind='barh', color='purple', ax = ax2)\n",
    "\n",
    "chi2_features = SelectKBest(chi2, k=3) \n",
    "X_kbest_features = chi2_features.fit(w_df_X, w_df_y)\n",
    "print('Best features:', X_kbest_features.get_support(indices=True))\n",
    "\n",
    "transformed_X = chi2_features.transform(w_df_X)\n",
    "print(transformed_X)\n",
    "\n",
    "plt.show() # See that width and height important columns"
   ]
  },
  {
   "cell_type": "code",
   "execution_count": null,
   "metadata": {},
   "outputs": [],
   "source": [
    "df['designer'].head(15)"
   ]
  },
  {
   "cell_type": "code",
   "execution_count": 106,
   "metadata": {},
   "outputs": [],
   "source": [
    "# Create function to clear Designers\n",
    "def cleanDesigners(value, removeIKEA=False, emptyValue=np.nan):\n",
    "    if not isinstance(value, str):\n",
    "        return value\n",
    "    \n",
    "    if len(value)>0 and value[0].isdigit():\n",
    "        return emptyValue\n",
    "    \n",
    "    designers = value.split(\"/\")\n",
    "    \n",
    "    if removeIKEA:\n",
    "        try:\n",
    "            designers.remove(\"IKEA of Sweden\")\n",
    "        except:\n",
    "            pass\n",
    "    if len(designers) > 0:\n",
    "        return '/'.join(sorted(designers))\n",
    "    else:\n",
    "        return emptyValue"
   ]
  },
  {
   "cell_type": "code",
   "execution_count": 107,
   "metadata": {},
   "outputs": [],
   "source": [
    "ikea_df = pd.read_csv(\"https://raw.githubusercontent.com/rfordatascience/tidytuesday/master/data/2020/2020-11-03/ikea.csv\", index_col= 0).drop_duplicates()\n",
    "\n",
    "ikea_df['designer_clean'] = df['designer'].apply(cleanDesigners, args= (False, \"IKEA of Sweden\"))"
   ]
  },
  {
   "cell_type": "code",
   "execution_count": null,
   "metadata": {},
   "outputs": [],
   "source": [
    "ikea_df['designer_clean'].head()"
   ]
  },
  {
   "cell_type": "code",
   "execution_count": null,
   "metadata": {},
   "outputs": [],
   "source": [
    "ikea_df.isnull().sum()"
   ]
  },
  {
   "cell_type": "code",
   "execution_count": null,
   "metadata": {},
   "outputs": [],
   "source": [
    "# Fill in data\n",
    "ikea_df['other_colors_1'] = ikea_df['other_colors'].map(dict(Yes=1, No=0))\n",
    "\n",
    "median_d = ikea_df.groupby(['category'])['depth'].median()\n",
    "median_h = ikea_df.groupby(['category'])['height'].median()\n",
    "median_w = ikea_df.groupby(['category'])['width'].median()\n",
    "\n",
    "median_price = ikea_df.groupby(['category'])['price'].median()\n",
    "median_dsgn =  ikea_df.groupby(['designer_clean'])['price'].median()\n",
    "\n",
    "ikea_df = ikea_df.set_index(['category'])\n",
    "ikea_df['depth_1'] = ikea_df['depth'].fillna(median_d)\n",
    "ikea_df['height_1'] = ikea_df['height'].fillna(median_h)\n",
    "ikea_df['width_1'] = ikea_df['width'].fillna(median_w)\n",
    "ikea_df['category_median_price'] = median_price\n",
    "\n",
    "ikea_df = ikea_df.reset_index()\n",
    "\n",
    "ikea_df = ikea_df.set_index(['designer_clean'])\n",
    "ikea_df['designer_median_price'] = median_dsgn\n",
    "ikea_df = ikea_df.reset_index()\n",
    "ikea_df.head()"
   ]
  },
  {
   "cell_type": "code",
   "execution_count": 123,
   "metadata": {},
   "outputs": [],
   "source": [
    "# Function to choose BestRegressor\n",
    "# Step by step fit data for different model, and display result\n",
    "def getBestRegressor (X, Y):\n",
    "    X_train, X_test, Y_train, Y_test = sk.model_selection.train_test_split(X, Y, test_size=0.2, random_state=42)\n",
    "    models = [\n",
    "        sk.linear_model.LinearRegression(),\n",
    "        sk.linear_model.LassoCV(),\n",
    "        sk.linear_model.RidgeCV(),\n",
    "        sk.svm.SVR(kernel='linear'),\n",
    "        sk.neighbors.KNeighborsRegressor(n_neighbors=16),\n",
    "        sk.tree.DecisionTreeRegressor(max_depth=10, random_state=42),\n",
    "        RandomForestRegressor(random_state=42),\n",
    "        GradientBoostingRegressor()\n",
    "    ]\n",
    "    \n",
    "    TestModels = pd.DataFrame()\n",
    "    res = {}\n",
    "    tmp = {}\n",
    "    \n",
    "    for model in models:\n",
    "        m = str(model)\n",
    "        tmp['Model'] = m[:m.index('(')]\n",
    "        model.fit(X_train, Y_train)\n",
    "        tmp['R^2'] = '{:.5f}'.format(model.score(X_test, Y_test))\n",
    "        tmp['MAE'] = '{:.5f}'.format(sk.metrics.mean_absolute_error(model.predict(X_test), Y_test))\n",
    "        tmp['RMSE'] = '{:.5f}'.format(np.sqrt(sk.metrics.mean_squared_error(model.predict(X_test), Y_test)))\n",
    "        \n",
    "        TestModels = pd.concat([TestModels, pd.DataFrame([tmp])])\n",
    "        \n",
    "    TestModels.set_index('Model', inplace=True)\n",
    "    res['model'] = TestModels\n",
    "    res['X_train'] = X_train\n",
    "    res['Y_train'] = Y_train\n",
    "    res['X_test'] = X_test\n",
    "    res['Y_test'] = Y_test\n",
    "    return res"
   ]
  },
  {
   "cell_type": "code",
   "execution_count": null,
   "metadata": {},
   "outputs": [],
   "source": [
    "X1 = ikea_df[['width_1','depth_1','height_1']]\n",
    "Y1 = ikea_df['price']\n",
    "\n",
    "test1 = getBestRegressor(X1, Y1)\n",
    "test1['model'].sort_values(by='R^2', ascending=False)\n"
   ]
  },
  {
   "cell_type": "markdown",
   "metadata": {},
   "source": [
    "We can see that **RandomForestRegressor** have best result for predict price, next step to tunning model "
   ]
  },
  {
   "cell_type": "code",
   "execution_count": null,
   "metadata": {},
   "outputs": [],
   "source": [
    "from sklearn.model_selection import GridSearchCV\n",
    "# Use  GridSearchCV for tunning model \n",
    "X_train, X_test, Y_train, Y_test = sk.model_selection.train_test_split(X1, Y1, test_size=0.2, random_state=42)\n",
    "forest_grid = GridSearchCV(RandomForestRegressor(), {'n_estimators': [10,25,50,100,110,120,130, 140,150,200,500], \n",
    "                                                     'max_depth': [10,20,30,40,50,100,200,None], \n",
    "                                                     'max_features': ['auto','sqrt','log2']}, cv=5, n_jobs=-1, verbose=0)\n",
    "forest_grid.fit(X_train, Y_train)\n",
    " \n",
    "print('Best Estimator :',forest_grid.best_estimator_)\n",
    "print('Best Score     :',forest_grid.best_score_)\n",
    "print('')\n",
    "print('R^2            : {:.5f}'.format(sk.metrics.r2_score(Y_test, forest_grid.predict(X_test))))\n",
    "print('MAE            : {:.5f}'.format(sk.metrics.mean_absolute_error(forest_grid.predict(X_test), Y_test)))\n",
    "print('RMSE           : {:.5f}'.format(np.sqrt(sk.metrics.mean_squared_error(forest_grid.predict(X_test), Y_test))))\n",
    "print('')\n",
    "print('Feature importance:')\n",
    "print('--------------------------------')\n",
    "\n",
    "for feat, importance in zip(X_train.columns, forest_grid.best_estimator_.feature_importances_):\n",
    "    print('{:.5f}    {f}'.format(importance, f=feat))"
   ]
  },
  {
   "cell_type": "code",
   "execution_count": null,
   "metadata": {},
   "outputs": [],
   "source": [
    "sns.set_style('whitegrid')\n",
    "sns.barplot(y=X_train.columns, x=forest_grid.best_estimator_.feature_importances_)"
   ]
  },
  {
   "cell_type": "markdown",
   "metadata": {},
   "source": [
    "After analyzing and machine learning, we determined that the most important features for pricing in our dataset are: **width, depth and height**."
   ]
  }
 ],
 "metadata": {
  "kernelspec": {
   "display_name": "base",
   "language": "python",
   "name": "python3"
  },
  "language_info": {
   "codemirror_mode": {
    "name": "ipython",
    "version": 3
   },
   "file_extension": ".py",
   "mimetype": "text/x-python",
   "name": "python",
   "nbconvert_exporter": "python",
   "pygments_lexer": "ipython3",
   "version": "3.11.3"
  },
  "orig_nbformat": 4
 },
 "nbformat": 4,
 "nbformat_minor": 2
}
