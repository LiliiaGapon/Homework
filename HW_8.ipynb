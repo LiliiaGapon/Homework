{
 "cells": [
  {
   "cell_type": "code",
   "execution_count": 2,
   "metadata": {},
   "outputs": [],
   "source": [
    "import matplotlib.pyplot as plt\n",
    "import pandas as pd\n",
    "import numpy\n",
    "import matplotlib\n",
    "import seaborn"
   ]
  },
  {
   "cell_type": "code",
   "execution_count": 3,
   "metadata": {},
   "outputs": [],
   "source": [
    "data = pd.read_csv('https://raw.githubusercontent.com/rfordatascience/tidytuesday/master/data/2020/2020-07-07/coffee_ratings.csv', sep=',')\n"
   ]
  },
  {
   "cell_type": "code",
   "execution_count": null,
   "metadata": {},
   "outputs": [],
   "source": [
    "data"
   ]
  },
  {
   "cell_type": "code",
   "execution_count": null,
   "metadata": {},
   "outputs": [],
   "source": [
    "data.info()"
   ]
  },
  {
   "cell_type": "code",
   "execution_count": null,
   "metadata": {},
   "outputs": [],
   "source": [
    "data.columns"
   ]
  },
  {
   "cell_type": "code",
   "execution_count": null,
   "metadata": {},
   "outputs": [],
   "source": [
    "data.describe()"
   ]
  },
  {
   "cell_type": "code",
   "execution_count": null,
   "metadata": {},
   "outputs": [],
   "source": [
    "# Які країни є великими експортерами кави\n",
    "great_ex=data.groupby('country_of_origin').count().reset_index()\n",
    "top_country = great_ex.sort_values('total_cup_points',ascending=False)\n",
    "top10_country = top_country[:10][['country_of_origin', 'total_cup_points']]\n",
    "top10_country"
   ]
  },
  {
   "cell_type": "code",
   "execution_count": null,
   "metadata": {},
   "outputs": [],
   "source": [
    "# Візуалізуємо топ 10 найбільших експортерів кави\n",
    "fig, ax = plt.subplots()\n",
    "ax.pie(top10_country[\"total_cup_points\"], labels=top10_country[\"country_of_origin\"],\n",
    "       autopct='%1.1f%%', startangle=90, pctdistance=0.85)\n",
    "ax.set_title(\"Distribution of Total Cup Points among Top Coffee-Origin Countries\")\n",
    "ax.axis('equal')\n",
    "plt.tight_layout()\n",
    "plt.show()\n",
    "\n",
    "\n",
    "\n",
    "\n",
    "\n",
    "\n"
   ]
  },
  {
   "cell_type": "code",
   "execution_count": null,
   "metadata": {},
   "outputs": [],
   "source": [
    "#  Які кореляції між різними показниками оцінки кави?\n",
    "column_for_matrix=['body','acidity', 'flavor', 'aroma','sweetness', 'cupper_points', 'aftertaste', 'balance', 'uniformity', 'clean_cup','total_cup_points']\n",
    "corr_matrix=data.loc[:,column_for_matrix].corr()\n",
    "seaborn.heatmap(corr_matrix, annot=True)"
   ]
  },
  {
   "cell_type": "markdown",
   "metadata": {},
   "source": [
    "Виходячи з даної матриці, бачимо, що оцінка 'sweetness', 'clean_cup', 'uniformity' не\n",
    "мають залежності\n",
    "від других показників, окрім самих себе, та мають найгіршу корреляцію з\n",
    "'total_cup_points'.\n",
    "Зробимо окрему матрицю нижче, щоб детальніше розглянути показники, що\n",
    "мають корреляцію між собою."
   ]
  },
  {
   "cell_type": "code",
   "execution_count": null,
   "metadata": {},
   "outputs": [],
   "source": [
    "corr_matrix2=data.loc[:,['flavor','aftertaste', 'balance', 'cupper_points', 'total_cup_points']].corr()\n",
    "seaborn.heatmap(corr_matrix2, annot=True)"
   ]
  },
  {
   "cell_type": "markdown",
   "metadata": {},
   "source": [
    "Найбільший показник корреляції це ‘flavor’==‘aftertaste’"
   ]
  },
  {
   "cell_type": "code",
   "execution_count": null,
   "metadata": {},
   "outputs": [],
   "source": [
    "#Який (якщо є) вплив кольору зерен на загальний сорт кави?\n",
    "pivot=data.pivot_table(index=[\"species\"],columns=[\"color\"],values=['total_cup_points'],aggfunc=numpy.average)\n",
    "seaborn.heatmap(pivot)\n",
    "plt.show()\n"
   ]
  },
  {
   "cell_type": "markdown",
   "metadata": {},
   "source": [
    "Колір кави впливає на\n",
    "загальний показник.Наприклад, ‘Blue-Green Beans’ сорту арабіка є елітним серед\n",
    "інших кольорів "
   ]
  },
  {
   "cell_type": "code",
   "execution_count": null,
   "metadata": {},
   "outputs": [],
   "source": [
    "# Чи впливає країна походження на якість кави?\n",
    "table= pandas.pivot_table(data,index=['country_of_origin'],values=['total_cup_points'],aggfunc=numpy.mean)\n",
    "sort_table=table.reindex(table.sort_values(by='total_cup_points', ascending=False).index)\n",
    "tab = table.plot(kind='bar',color='y',legend=False)\n",
    "plt.axhline(y=80, c=\"green\", label=\"y=0\")\n",
    "plt.axhline(y=85, c=\"blue\", label=\"y=0\")\n",
    "plt.axhline(y=77, c=\"red\", label=\"y=0\")\n",
    "tab.set_title('Середній показник оцінок по країні походження')\n",
    "plt.show()\n"
   ]
  },
  {
   "cell_type": "markdown",
   "metadata": {},
   "source": [
    "На графік було додано три горизонтальні лінії, де червона відповідає за\n",
    "мінімальний показник, зелена - середній, синя -найвищі показники оцінкиВ\n",
    "загальному, можна стверджувати, що оцінка кави не є залежною від країнекспортерів"
   ]
  },
  {
   "cell_type": "code",
   "execution_count": null,
   "metadata": {},
   "outputs": [],
   "source": [
    "# Чи суттєво впливає висота на якість кави?"
   ]
  },
  {
   "cell_type": "code",
   "execution_count": null,
   "metadata": {},
   "outputs": [],
   "source": [
    "data=data[data.altitude_mean_meters!=110000.0]\n",
    "data=data[data.altitude_mean_meters!=11000.0]\n",
    "data=data[data.altitude_mean_meters!=190164.0]\n",
    "data.loc[data['altitude_mean_meters'] == '190164.0 ', 'altitude_mean_meters'] = 'NaN'\n",
    "tablemeters= pandas.pivot_table(data,index=['altitude_mean_meters'],values=['total_cup_points'], aggfunc=numpy.average)\n",
    "ex6=seaborn.jointplot(data=tablemeters)\n",
    "ex6.fig.suptitle('Візуальне розподілення оцінки, залежно від висоти над рівнем моря')\n",
    "plt.show()"
   ]
  },
  {
   "cell_type": "markdown",
   "metadata": {},
   "source": [
    "На представленому графіку ми бачимо скупчення точок в діапазоні оцінки\n",
    "від 80 до 85 на рівні 300-2000 метрів. Це вказує на те що, на такому рівні\n",
    "вирощують багато кави, це якісь вулканічні чи гірські схили, враховуючи\n",
    "середні показники висоти. Згідно даного графіку, можу стверджувати, що\n",
    "природа наділила кавове дерево певною особливості, схожу на\n",
    "виноградники, вони полюбляють рости на схилах, там для них створені\n",
    "певні умови, собливе світіння сонця та вітри, що притаманні гірським\n",
    "умовам. Даний графік також показує, що занадто високі гори (від 2000\n",
    "метрів) також здатні вирости зерно кави, але їх оцінки не є дуже особливі,\n",
    "я б сказав, що вони мають притаманність бути нижчими, аніж ті кавові\n",
    "сількогосподарські угіддя, що розташовані нище по схилу гори"
   ]
  }
 ],
 "metadata": {
  "kernelspec": {
   "display_name": "base",
   "language": "python",
   "name": "python3"
  },
  "language_info": {
   "codemirror_mode": {
    "name": "ipython",
    "version": 3
   },
   "file_extension": ".py",
   "mimetype": "text/x-python",
   "name": "python",
   "nbconvert_exporter": "python",
   "pygments_lexer": "ipython3",
   "version": "3.11.3"
  },
  "orig_nbformat": 4
 },
 "nbformat": 4,
 "nbformat_minor": 2
}
