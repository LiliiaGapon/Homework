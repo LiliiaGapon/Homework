{
 "cells": [
  {
   "cell_type": "code",
   "execution_count": 2,
   "metadata": {},
   "outputs": [],
   "source": [
    "with open('orders.txt', 'r') as file:\n",
    "    data = file.read()"
   ]
  },
  {
   "cell_type": "code",
   "execution_count": null,
   "metadata": {},
   "outputs": [],
   "source": [
    "data"
   ]
  },
  {
   "cell_type": "code",
   "execution_count": 27,
   "metadata": {},
   "outputs": [],
   "source": [
    "all_products = []\n",
    "for _ in data:\n",
    "    all_products.append(_.split(\"@@@\"))\n",
    "# new_data -> [[Sparkling Orange Juice & Prickly Pear Beverage],[...],[...]]"
   ]
  },
  {
   "cell_type": "code",
   "execution_count": null,
   "metadata": {},
   "outputs": [],
   "source": [
    "all_products"
   ]
  },
  {
   "cell_type": "code",
   "execution_count": 29,
   "metadata": {},
   "outputs": [
    {
     "data": {
      "text/plain": [
       "131209"
      ]
     },
     "execution_count": 29,
     "metadata": {},
     "output_type": "execute_result"
    }
   ],
   "source": [
    "len(all_products)"
   ]
  },
  {
   "cell_type": "code",
   "execution_count": 30,
   "metadata": {},
   "outputs": [],
   "source": [
    "#список усіх продуктів\n",
    "unique_products = []\n",
    "all_products_flat = []\n",
    "for check in all_products:\n",
    "    all_products_flat.extend(check)"
   ]
  },
  {
   "cell_type": "code",
   "execution_count": null,
   "metadata": {},
   "outputs": [],
   "source": [
    "all_products_flat"
   ]
  },
  {
   "cell_type": "code",
   "execution_count": 33,
   "metadata": {},
   "outputs": [
    {
     "data": {
      "text/plain": [
       "1384617"
      ]
     },
     "execution_count": 33,
     "metadata": {},
     "output_type": "execute_result"
    }
   ],
   "source": [
    "len(all_products_flat)"
   ]
  },
  {
   "cell_type": "code",
   "execution_count": null,
   "metadata": {},
   "outputs": [],
   "source": [
    "product_counts"
   ]
  },
  {
   "cell_type": "code",
   "execution_count": 34,
   "metadata": {},
   "outputs": [],
   "source": [
    "unique_products = list(set(all_products_flat))\n"
   ]
  },
  {
   "cell_type": "code",
   "execution_count": 35,
   "metadata": {},
   "outputs": [
    {
     "data": {
      "text/plain": [
       "39123"
      ]
     },
     "execution_count": 35,
     "metadata": {},
     "output_type": "execute_result"
    }
   ],
   "source": [
    "# список унікальних значень\n",
    "len(unique_products)"
   ]
  },
  {
   "cell_type": "code",
   "execution_count": 36,
   "metadata": {},
   "outputs": [],
   "source": [
    "def confidence(pr1, pr2):\n",
    "    sup = support(pr1, pr2)\n",
    "    conf = all_products_flat.count(pr1) / sup\n",
    "    print(sup, conf)\n",
    "    return conf\n"
   ]
  },
  {
   "cell_type": "code",
   "execution_count": 37,
   "metadata": {},
   "outputs": [],
   "source": [
    "def support(pr1, pr2):\n",
    "    res = 0\n",
    "    for check in all_products:\n",
    "        if pr1 and pr2 in check:\n",
    "            res += 1\n",
    "    return res\n"
   ]
  },
  {
   "cell_type": "code",
   "execution_count": null,
   "metadata": {},
   "outputs": [],
   "source": [
    "def max_conf(perc):\n",
    "    x = 0\n",
    "    while x <= len(unique_products):\n",
    "        if x + 1 > len(unique_products):\n",
    "            new_perc = confidence(unique_products[x], unique_products[0])\n",
    "            if new_perc > perc:\n",
    "                print(f\"{unique_products[x]} + {unique_products[0]} => {new_perc}\")\n",
    "        else:\n",
    "            new_perc = confidence(unique_products[x], unique_products[x + 1])\n",
    "            if new_perc > perc:\n",
    "                print(f\"{unique_products[x]} + {unique_products[x + 1]} => {new_perc}\")\n",
    "        x += 1\n",
    "max_conf(15)"
   ]
  }
 ],
 "metadata": {
  "kernelspec": {
   "display_name": "base",
   "language": "python",
   "name": "python3"
  },
  "language_info": {
   "codemirror_mode": {
    "name": "ipython",
    "version": 3
   },
   "file_extension": ".py",
   "mimetype": "text/x-python",
   "name": "python",
   "nbconvert_exporter": "python",
   "pygments_lexer": "ipython3",
   "version": "3.11.3"
  },
  "orig_nbformat": 4
 },
 "nbformat": 4,
 "nbformat_minor": 2
}
